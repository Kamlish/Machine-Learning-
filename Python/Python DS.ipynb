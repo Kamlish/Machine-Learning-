{
 "cells": [
  {
   "cell_type": "code",
   "execution_count": 1,
   "id": "25f72ac4",
   "metadata": {},
   "outputs": [
    {
     "name": "stdout",
     "output_type": "stream",
     "text": [
      "('Kamlish', 27, True)\n"
     ]
    }
   ],
   "source": [
    "#Tuples\n",
    "\n",
    "tup1 = ('Kamlish', 27, True)\n",
    "print(tup1)"
   ]
  },
  {
   "cell_type": "code",
   "execution_count": 2,
   "id": "8a3f5ab3",
   "metadata": {},
   "outputs": [
    {
     "data": {
      "text/plain": [
       "27"
      ]
     },
     "execution_count": 2,
     "metadata": {},
     "output_type": "execute_result"
    }
   ],
   "source": [
    "tup1[1]"
   ]
  },
  {
   "cell_type": "code",
   "execution_count": 3,
   "id": "97716c5c",
   "metadata": {},
   "outputs": [
    {
     "name": "stdout",
     "output_type": "stream",
     "text": [
      "('Zee', 24, True)\n"
     ]
    }
   ],
   "source": [
    "tup2 = ('Zee',24, True)\n",
    "print(tup2)"
   ]
  },
  {
   "cell_type": "code",
   "execution_count": 4,
   "id": "d75ad9b4",
   "metadata": {},
   "outputs": [
    {
     "data": {
      "text/plain": [
       "('Kamlish', 27, True, 'Zee', 24, True)"
      ]
     },
     "execution_count": 4,
     "metadata": {},
     "output_type": "execute_result"
    }
   ],
   "source": [
    "tup1 + tup2"
   ]
  },
  {
   "cell_type": "code",
   "execution_count": 5,
   "id": "ac8f085d",
   "metadata": {},
   "outputs": [
    {
     "data": {
      "text/plain": [
       "('Kamlish', 27, True, 'Kamlish', 27, True)"
      ]
     },
     "execution_count": 5,
     "metadata": {},
     "output_type": "execute_result"
    }
   ],
   "source": [
    "tup1*2\n"
   ]
  },
  {
   "cell_type": "code",
   "execution_count": 22,
   "id": "b2138aeb",
   "metadata": {},
   "outputs": [
    {
     "data": {
      "text/plain": [
       "12"
      ]
     },
     "execution_count": 22,
     "metadata": {},
     "output_type": "execute_result"
    }
   ],
   "source": [
    "tup2 = (12,3,4,3,1)\n",
    "max(tup2)"
   ]
  },
  {
   "cell_type": "code",
   "execution_count": null,
   "id": "d966f023",
   "metadata": {},
   "outputs": [],
   "source": [
    "#Lists"
   ]
  },
  {
   "cell_type": "code",
   "execution_count": 7,
   "id": "577c497d",
   "metadata": {},
   "outputs": [
    {
     "name": "stdout",
     "output_type": "stream",
     "text": [
      "['Kamlish', 27, True]\n"
     ]
    }
   ],
   "source": [
    "list1 = ['Kamlish', 27, True]\n",
    "print(list1)"
   ]
  },
  {
   "cell_type": "code",
   "execution_count": 8,
   "id": "dcd5527f",
   "metadata": {},
   "outputs": [],
   "source": [
    "list1[0] = 'Kamlish Goswami'"
   ]
  },
  {
   "cell_type": "code",
   "execution_count": 9,
   "id": "83c0502e",
   "metadata": {},
   "outputs": [
    {
     "name": "stdout",
     "output_type": "stream",
     "text": [
      "['Kamlish Goswami', 27, True]\n"
     ]
    }
   ],
   "source": [
    "print(list1)"
   ]
  },
  {
   "cell_type": "code",
   "execution_count": 11,
   "id": "70a8625c",
   "metadata": {},
   "outputs": [
    {
     "data": {
      "text/plain": [
       "['Kamlish Goswami', 27]"
      ]
     },
     "execution_count": 11,
     "metadata": {},
     "output_type": "execute_result"
    }
   ],
   "source": [
    "list1[0:2]"
   ]
  },
  {
   "cell_type": "code",
   "execution_count": 14,
   "id": "ea9a2ec9",
   "metadata": {},
   "outputs": [],
   "source": [
    "list1.append('Islamabad')"
   ]
  },
  {
   "cell_type": "code",
   "execution_count": 15,
   "id": "3c527915",
   "metadata": {},
   "outputs": [
    {
     "name": "stdout",
     "output_type": "stream",
     "text": [
      "['Kamlish Goswami', 27, True, 'Islamabad']\n"
     ]
    }
   ],
   "source": [
    "print(list1)"
   ]
  },
  {
   "cell_type": "code",
   "execution_count": 17,
   "id": "3586a98a",
   "metadata": {},
   "outputs": [
    {
     "data": {
      "text/plain": [
       "11"
      ]
     },
     "execution_count": 17,
     "metadata": {},
     "output_type": "execute_result"
    }
   ],
   "source": [
    "list2 = [1,4,6,11,3]\n",
    "max(list2)"
   ]
  },
  {
   "cell_type": "code",
   "execution_count": 25,
   "id": "480d35de",
   "metadata": {},
   "outputs": [
    {
     "data": {
      "text/plain": [
       "[3, 11, 6, 4, 1]"
      ]
     },
     "execution_count": 25,
     "metadata": {},
     "output_type": "execute_result"
    }
   ],
   "source": [
    "list2.reverse()\n",
    "list2"
   ]
  },
  {
   "cell_type": "code",
   "execution_count": 27,
   "id": "5d76e7f3",
   "metadata": {},
   "outputs": [
    {
     "data": {
      "text/plain": [
       "[1, 3, 4, 6, 11]"
      ]
     },
     "execution_count": 27,
     "metadata": {},
     "output_type": "execute_result"
    }
   ],
   "source": [
    "list2.sort()\n",
    "list2"
   ]
  },
  {
   "cell_type": "code",
   "execution_count": 28,
   "id": "b95b5ab5",
   "metadata": {},
   "outputs": [],
   "source": [
    "list2.insert(1,4)"
   ]
  },
  {
   "cell_type": "code",
   "execution_count": 29,
   "id": "e21ed2da",
   "metadata": {},
   "outputs": [
    {
     "data": {
      "text/plain": [
       "[1, 4, 3, 4, 6, 11]"
      ]
     },
     "execution_count": 29,
     "metadata": {},
     "output_type": "execute_result"
    }
   ],
   "source": [
    "list2"
   ]
  },
  {
   "cell_type": "code",
   "execution_count": null,
   "id": "2ef03bea",
   "metadata": {},
   "outputs": [],
   "source": [
    "#Dictionary\n"
   ]
  },
  {
   "cell_type": "code",
   "execution_count": 3,
   "id": "7a0ffac6",
   "metadata": {},
   "outputs": [
    {
     "data": {
      "text/plain": [
       "dict"
      ]
     },
     "execution_count": 3,
     "metadata": {},
     "output_type": "execute_result"
    }
   ],
   "source": [
    "profile = {'Kamlis':27, 'Neh': 26, 'Ze':25}\n",
    "type(profile)\n"
   ]
  },
  {
   "cell_type": "code",
   "execution_count": 4,
   "id": "a2b407e2",
   "metadata": {},
   "outputs": [
    {
     "data": {
      "text/plain": [
       "dict_keys(['Kamlis', 'Neh', 'Ze'])"
      ]
     },
     "execution_count": 4,
     "metadata": {},
     "output_type": "execute_result"
    }
   ],
   "source": [
    "profile.keys()"
   ]
  },
  {
   "cell_type": "code",
   "execution_count": 32,
   "id": "361aa2de",
   "metadata": {},
   "outputs": [
    {
     "data": {
      "text/plain": [
       "dict_values([27, 26, 25])"
      ]
     },
     "execution_count": 32,
     "metadata": {},
     "output_type": "execute_result"
    }
   ],
   "source": [
    "profile.values()"
   ]
  },
  {
   "cell_type": "code",
   "execution_count": 5,
   "id": "36f7d43b",
   "metadata": {},
   "outputs": [],
   "source": [
    "profile['Anusi'] = 28"
   ]
  },
  {
   "cell_type": "code",
   "execution_count": 6,
   "id": "26651735",
   "metadata": {},
   "outputs": [
    {
     "data": {
      "text/plain": [
       "{'Kamlis': 27, 'Neh': 26, 'Ze': 25, 'Anusi': 28}"
      ]
     },
     "execution_count": 6,
     "metadata": {},
     "output_type": "execute_result"
    }
   ],
   "source": [
    "profile\n"
   ]
  },
  {
   "cell_type": "code",
   "execution_count": 8,
   "id": "fb95636e",
   "metadata": {},
   "outputs": [],
   "source": [
    "profile['Ze'] = 24"
   ]
  },
  {
   "cell_type": "code",
   "execution_count": 9,
   "id": "1842308d",
   "metadata": {},
   "outputs": [
    {
     "data": {
      "text/plain": [
       "{'Kamlis': 27, 'Neh': 26, 'Ze': 24, 'Anusi': 28, 'Zee': 24}"
      ]
     },
     "execution_count": 9,
     "metadata": {},
     "output_type": "execute_result"
    }
   ],
   "source": [
    "profile"
   ]
  },
  {
   "cell_type": "code",
   "execution_count": 12,
   "id": "dc002cd0",
   "metadata": {},
   "outputs": [],
   "source": [
    "cities = {'Kamlish': 'Islamabad', 'Neha':'Karachi', 'Zee': 'Bahawalpur', 'Anusia':'Karachi'}"
   ]
  },
  {
   "cell_type": "code",
   "execution_count": 13,
   "id": "ad89996a",
   "metadata": {},
   "outputs": [
    {
     "data": {
      "text/plain": [
       "{'Kamlish': 'Islamabad',\n",
       " 'Neha': 'Karachi',\n",
       " 'Zee': 'Bahawalpur',\n",
       " 'Anusia': 'Karachi'}"
      ]
     },
     "execution_count": 13,
     "metadata": {},
     "output_type": "execute_result"
    }
   ],
   "source": [
    "profile\n",
    "cities\n"
   ]
  },
  {
   "cell_type": "code",
   "execution_count": 14,
   "id": "7cd5106e",
   "metadata": {},
   "outputs": [],
   "source": [
    "profile.update(cities)"
   ]
  },
  {
   "cell_type": "code",
   "execution_count": 15,
   "id": "44e9eda6",
   "metadata": {},
   "outputs": [
    {
     "data": {
      "text/plain": [
       "{'Kamlis': 27,\n",
       " 'Neh': 26,\n",
       " 'Ze': 24,\n",
       " 'Anusi': 28,\n",
       " 'Zee': 'Bahawalpur',\n",
       " 'Kamlish': 'Islamabad',\n",
       " 'Neha': 'Karachi',\n",
       " 'Anusia': 'Karachi'}"
      ]
     },
     "execution_count": 15,
     "metadata": {},
     "output_type": "execute_result"
    }
   ],
   "source": [
    "profile"
   ]
  },
  {
   "cell_type": "code",
   "execution_count": 42,
   "id": "7d73747d",
   "metadata": {},
   "outputs": [],
   "source": [
    "cities.update(profile)"
   ]
  },
  {
   "cell_type": "code",
   "execution_count": 43,
   "id": "445bfc31",
   "metadata": {},
   "outputs": [
    {
     "data": {
      "text/plain": [
       "{'Kamlish': 'Islamabad',\n",
       " 'Neha': 'Karachi',\n",
       " 'Zee': 'Bahawalpur',\n",
       " 'Anusia': 'Karachi'}"
      ]
     },
     "execution_count": 43,
     "metadata": {},
     "output_type": "execute_result"
    }
   ],
   "source": [
    "cities"
   ]
  },
  {
   "cell_type": "code",
   "execution_count": 49,
   "id": "a8d00332",
   "metadata": {},
   "outputs": [
    {
     "data": {
      "text/plain": [
       "'Karachi'"
      ]
     },
     "execution_count": 49,
     "metadata": {},
     "output_type": "execute_result"
    }
   ],
   "source": [
    "profile.pop('Anusia')"
   ]
  },
  {
   "cell_type": "code",
   "execution_count": 50,
   "id": "22fd99a1",
   "metadata": {},
   "outputs": [
    {
     "data": {
      "text/plain": [
       "{'Kamlish': 'Islamabad', 'Neha': 'Karachi', 'Zee': 'Bahawalpur'}"
      ]
     },
     "execution_count": 50,
     "metadata": {},
     "output_type": "execute_result"
    }
   ],
   "source": [
    "profile"
   ]
  },
  {
   "cell_type": "code",
   "execution_count": null,
   "id": "7ce0cea8",
   "metadata": {},
   "outputs": [],
   "source": [
    "#Set"
   ]
  },
  {
   "cell_type": "code",
   "execution_count": 26,
   "id": "0e5d5c8d",
   "metadata": {},
   "outputs": [],
   "source": [
    "set1 = {\"Kamlish\", 27, True}"
   ]
  },
  {
   "cell_type": "code",
   "execution_count": 27,
   "id": "b3c2d352",
   "metadata": {},
   "outputs": [
    {
     "data": {
      "text/plain": [
       "{27, 'Kamlish', True}"
      ]
     },
     "execution_count": 27,
     "metadata": {},
     "output_type": "execute_result"
    }
   ],
   "source": [
    "set1"
   ]
  },
  {
   "cell_type": "code",
   "execution_count": 29,
   "id": "b6230230",
   "metadata": {},
   "outputs": [],
   "source": [
    "set1.remove(True)"
   ]
  },
  {
   "cell_type": "code",
   "execution_count": 34,
   "id": "a665ef71",
   "metadata": {},
   "outputs": [
    {
     "data": {
      "text/plain": [
       "{27, 'Islamabad', 'Kamlish'}"
      ]
     },
     "execution_count": 34,
     "metadata": {},
     "output_type": "execute_result"
    }
   ],
   "source": [
    "set1\n"
   ]
  },
  {
   "cell_type": "code",
   "execution_count": 35,
   "id": "8064546a",
   "metadata": {},
   "outputs": [],
   "source": [
    "set1.add(\"Islamabad\")"
   ]
  },
  {
   "cell_type": "code",
   "execution_count": 32,
   "id": "900fa330",
   "metadata": {},
   "outputs": [
    {
     "data": {
      "text/plain": [
       "{27, 'Islamabad', 'Kamlish'}"
      ]
     },
     "execution_count": 32,
     "metadata": {},
     "output_type": "execute_result"
    }
   ],
   "source": [
    "set1"
   ]
  },
  {
   "cell_type": "code",
   "execution_count": 36,
   "id": "80b26909",
   "metadata": {},
   "outputs": [],
   "source": [
    "set1.update(['Zee', 24,True])"
   ]
  },
  {
   "cell_type": "code",
   "execution_count": 37,
   "id": "32b7b7f4",
   "metadata": {},
   "outputs": [
    {
     "data": {
      "text/plain": [
       "{24, 27, 'Islamabad', 'Kamlish', True, 'Zee'}"
      ]
     },
     "execution_count": 37,
     "metadata": {},
     "output_type": "execute_result"
    }
   ],
   "source": [
    "set1"
   ]
  },
  {
   "cell_type": "code",
   "execution_count": null,
   "id": "517b63dd",
   "metadata": {},
   "outputs": [],
   "source": []
  }
 ],
 "metadata": {
  "kernelspec": {
   "display_name": "Python 3 (ipykernel)",
   "language": "python",
   "name": "python3"
  },
  "language_info": {
   "codemirror_mode": {
    "name": "ipython",
    "version": 3
   },
   "file_extension": ".py",
   "mimetype": "text/x-python",
   "name": "python",
   "nbconvert_exporter": "python",
   "pygments_lexer": "ipython3",
   "version": "3.9.13"
  }
 },
 "nbformat": 4,
 "nbformat_minor": 5
}
