{
 "cells": [
  {
   "cell_type": "code",
   "execution_count": 21,
   "id": "85514906",
   "metadata": {},
   "outputs": [],
   "source": [
    "import numpy as np"
   ]
  },
  {
   "cell_type": "code",
   "execution_count": 22,
   "id": "7ee81c3b",
   "metadata": {},
   "outputs": [],
   "source": [
    "n1=np.array([1,2,3,4])"
   ]
  },
  {
   "cell_type": "code",
   "execution_count": 23,
   "id": "12efc950",
   "metadata": {},
   "outputs": [
    {
     "data": {
      "text/plain": [
       "array([1, 2, 3, 4])"
      ]
     },
     "execution_count": 23,
     "metadata": {},
     "output_type": "execute_result"
    }
   ],
   "source": [
    "n1"
   ]
  },
  {
   "cell_type": "code",
   "execution_count": 33,
   "id": "bdf425af",
   "metadata": {},
   "outputs": [],
   "source": [
    "n2=np.array([[1,2,3,4],[5,6,7,8]])"
   ]
  },
  {
   "cell_type": "code",
   "execution_count": 25,
   "id": "781136d7",
   "metadata": {},
   "outputs": [
    {
     "data": {
      "text/plain": [
       "array([[1, 2, 3, 4],\n",
       "       [5, 6, 7, 8]])"
      ]
     },
     "execution_count": 25,
     "metadata": {},
     "output_type": "execute_result"
    }
   ],
   "source": [
    "n2"
   ]
  },
  {
   "cell_type": "code",
   "execution_count": 26,
   "id": "46bbfdb9",
   "metadata": {},
   "outputs": [],
   "source": [
    "#1 Init with zero, Ones, x number and random number"
   ]
  },
  {
   "cell_type": "code",
   "execution_count": 27,
   "id": "d83c3fc3",
   "metadata": {},
   "outputs": [],
   "source": [
    "n3=np.zeros((5,5))"
   ]
  },
  {
   "cell_type": "code",
   "execution_count": 28,
   "id": "227c68f2",
   "metadata": {},
   "outputs": [
    {
     "data": {
      "text/plain": [
       "array([[0., 0., 0., 0., 0.],\n",
       "       [0., 0., 0., 0., 0.],\n",
       "       [0., 0., 0., 0., 0.],\n",
       "       [0., 0., 0., 0., 0.],\n",
       "       [0., 0., 0., 0., 0.]])"
      ]
     },
     "execution_count": 28,
     "metadata": {},
     "output_type": "execute_result"
    }
   ],
   "source": [
    "n3\n"
   ]
  },
  {
   "cell_type": "code",
   "execution_count": 29,
   "id": "2e9de8c5",
   "metadata": {},
   "outputs": [],
   "source": [
    "n4=np.ones((5,5))"
   ]
  },
  {
   "cell_type": "code",
   "execution_count": 30,
   "id": "dffc2261",
   "metadata": {},
   "outputs": [
    {
     "data": {
      "text/plain": [
       "array([[1., 1., 1., 1., 1.],\n",
       "       [1., 1., 1., 1., 1.],\n",
       "       [1., 1., 1., 1., 1.],\n",
       "       [1., 1., 1., 1., 1.],\n",
       "       [1., 1., 1., 1., 1.]])"
      ]
     },
     "execution_count": 30,
     "metadata": {},
     "output_type": "execute_result"
    }
   ],
   "source": [
    "n4"
   ]
  },
  {
   "cell_type": "code",
   "execution_count": 31,
   "id": "9921ed63",
   "metadata": {},
   "outputs": [],
   "source": [
    "n5=np.full((5,5),10)"
   ]
  },
  {
   "cell_type": "code",
   "execution_count": 32,
   "id": "36816c66",
   "metadata": {},
   "outputs": [
    {
     "data": {
      "text/plain": [
       "array([[10, 10, 10, 10, 10],\n",
       "       [10, 10, 10, 10, 10],\n",
       "       [10, 10, 10, 10, 10],\n",
       "       [10, 10, 10, 10, 10],\n",
       "       [10, 10, 10, 10, 10]])"
      ]
     },
     "execution_count": 32,
     "metadata": {},
     "output_type": "execute_result"
    }
   ],
   "source": [
    "n5"
   ]
  },
  {
   "cell_type": "code",
   "execution_count": 38,
   "id": "5d14fac1",
   "metadata": {},
   "outputs": [],
   "source": [
    "n6=np.random.randint(1,100,5)"
   ]
  },
  {
   "cell_type": "code",
   "execution_count": 39,
   "id": "f00d1614",
   "metadata": {},
   "outputs": [
    {
     "data": {
      "text/plain": [
       "array([50, 23, 58, 44, 83])"
      ]
     },
     "execution_count": 39,
     "metadata": {},
     "output_type": "execute_result"
    }
   ],
   "source": [
    "n6"
   ]
  },
  {
   "cell_type": "code",
   "execution_count": 40,
   "id": "88d0f37e",
   "metadata": {},
   "outputs": [],
   "source": [
    "#2 Checking the shape and change it"
   ]
  },
  {
   "cell_type": "code",
   "execution_count": 48,
   "id": "5b723335",
   "metadata": {},
   "outputs": [],
   "source": [
    "n7 = np.array([[1,2,3,4],[2,4,5,7]])"
   ]
  },
  {
   "cell_type": "code",
   "execution_count": 53,
   "id": "ab4367d8",
   "metadata": {},
   "outputs": [
    {
     "data": {
      "text/plain": [
       "(2, 4)"
      ]
     },
     "execution_count": 53,
     "metadata": {},
     "output_type": "execute_result"
    }
   ],
   "source": [
    "n7.shape"
   ]
  },
  {
   "cell_type": "code",
   "execution_count": 54,
   "id": "4f8d0c13",
   "metadata": {},
   "outputs": [],
   "source": [
    "n7.shape=(4,2)"
   ]
  },
  {
   "cell_type": "code",
   "execution_count": 55,
   "id": "985474da",
   "metadata": {},
   "outputs": [
    {
     "data": {
      "text/plain": [
       "array([[1, 2],\n",
       "       [3, 4],\n",
       "       [2, 4],\n",
       "       [5, 7]])"
      ]
     },
     "execution_count": 55,
     "metadata": {},
     "output_type": "execute_result"
    }
   ],
   "source": [
    "n7"
   ]
  },
  {
   "cell_type": "code",
   "execution_count": 56,
   "id": "4bc187f3",
   "metadata": {},
   "outputs": [],
   "source": [
    "#3 Joining numpy Arrays"
   ]
  },
  {
   "cell_type": "code",
   "execution_count": 58,
   "id": "b3eea3d1",
   "metadata": {},
   "outputs": [],
   "source": [
    "n8=np.array([3,4,5,6])\n",
    "n9=np.array([4,3,5,7])"
   ]
  },
  {
   "cell_type": "code",
   "execution_count": 67,
   "id": "c184c51c",
   "metadata": {},
   "outputs": [
    {
     "data": {
      "text/plain": [
       "array([[3, 4, 5, 6],\n",
       "       [4, 3, 5, 7]])"
      ]
     },
     "execution_count": 67,
     "metadata": {},
     "output_type": "execute_result"
    }
   ],
   "source": [
    "# vStack\n",
    "\n",
    "np.stack((n8,n9))"
   ]
  },
  {
   "cell_type": "code",
   "execution_count": 65,
   "id": "a35dd5b0",
   "metadata": {},
   "outputs": [
    {
     "data": {
      "text/plain": [
       "array([3, 4, 5, 6, 4, 3, 5, 7])"
      ]
     },
     "execution_count": 65,
     "metadata": {},
     "output_type": "execute_result"
    }
   ],
   "source": [
    "# hStack\n",
    "\n",
    "np.hstack((n8,n9))"
   ]
  },
  {
   "cell_type": "code",
   "execution_count": 68,
   "id": "1d4cc267",
   "metadata": {},
   "outputs": [
    {
     "data": {
      "text/plain": [
       "array([[3, 4],\n",
       "       [4, 3],\n",
       "       [5, 5],\n",
       "       [6, 7]])"
      ]
     },
     "execution_count": 68,
     "metadata": {},
     "output_type": "execute_result"
    }
   ],
   "source": [
    "# column-stack\n",
    "\n",
    "np.column_stack((n8,n9))"
   ]
  },
  {
   "cell_type": "code",
   "execution_count": 69,
   "id": "bf9f51ed",
   "metadata": {},
   "outputs": [],
   "source": [
    "#4 Numpy Intersection and Difference"
   ]
  },
  {
   "cell_type": "code",
   "execution_count": 70,
   "id": "358fbe8a",
   "metadata": {},
   "outputs": [
    {
     "data": {
      "text/plain": [
       "array([3, 4, 5])"
      ]
     },
     "execution_count": 70,
     "metadata": {},
     "output_type": "execute_result"
    }
   ],
   "source": [
    "#Intersection\n",
    "np.intersect1d(n8,n9)"
   ]
  },
  {
   "cell_type": "code",
   "execution_count": 72,
   "id": "745e8afe",
   "metadata": {},
   "outputs": [
    {
     "data": {
      "text/plain": [
       "array([6])"
      ]
     },
     "execution_count": 72,
     "metadata": {},
     "output_type": "execute_result"
    }
   ],
   "source": [
    "#Diff n1\n",
    "np.setdiff1d(n8,n9)"
   ]
  },
  {
   "cell_type": "code",
   "execution_count": 75,
   "id": "f55c250d",
   "metadata": {},
   "outputs": [
    {
     "data": {
      "text/plain": [
       "array([7])"
      ]
     },
     "execution_count": 75,
     "metadata": {},
     "output_type": "execute_result"
    }
   ],
   "source": [
    "#Diff n2\n",
    "np.setdiff1d(n9,n8)"
   ]
  },
  {
   "cell_type": "code",
   "execution_count": 79,
   "id": "b0404c43",
   "metadata": {},
   "outputs": [],
   "source": [
    "#5 Array sum"
   ]
  },
  {
   "cell_type": "code",
   "execution_count": 78,
   "id": "81c4cccd",
   "metadata": {},
   "outputs": [
    {
     "data": {
      "text/plain": [
       "36"
      ]
     },
     "execution_count": 78,
     "metadata": {},
     "output_type": "execute_result"
    }
   ],
   "source": [
    "np.sum((n8,n8))"
   ]
  },
  {
   "cell_type": "code",
   "execution_count": 77,
   "id": "7a994d6c",
   "metadata": {},
   "outputs": [
    {
     "data": {
      "text/plain": [
       "array([ 7,  7, 10, 13])"
      ]
     },
     "execution_count": 77,
     "metadata": {},
     "output_type": "execute_result"
    }
   ],
   "source": [
    "np.sum((n8,n9),axis=0)"
   ]
  },
  {
   "cell_type": "code",
   "execution_count": 80,
   "id": "f41a05f4",
   "metadata": {},
   "outputs": [
    {
     "data": {
      "text/plain": [
       "array([18, 18])"
      ]
     },
     "execution_count": 80,
     "metadata": {},
     "output_type": "execute_result"
    }
   ],
   "source": [
    "np.sum((n8,n8),axis=1)"
   ]
  },
  {
   "cell_type": "code",
   "execution_count": 81,
   "id": "829c4a6a",
   "metadata": {},
   "outputs": [],
   "source": [
    "# 6 Numpy Mathematics Operations"
   ]
  },
  {
   "cell_type": "code",
   "execution_count": 92,
   "id": "4c499f55",
   "metadata": {},
   "outputs": [],
   "source": [
    "n9 = np.array([4,5,6,7])\n",
    "n9 = n9 + 1"
   ]
  },
  {
   "cell_type": "code",
   "execution_count": 93,
   "id": "7b0cf798",
   "metadata": {},
   "outputs": [
    {
     "data": {
      "text/plain": [
       "array([5, 6, 7, 8])"
      ]
     },
     "execution_count": 93,
     "metadata": {},
     "output_type": "execute_result"
    }
   ],
   "source": [
    "n9\n"
   ]
  },
  {
   "cell_type": "code",
   "execution_count": 94,
   "id": "9c0d54a6",
   "metadata": {},
   "outputs": [
    {
     "data": {
      "text/plain": [
       "array([15, 18, 21, 24])"
      ]
     },
     "execution_count": 94,
     "metadata": {},
     "output_type": "execute_result"
    }
   ],
   "source": [
    "n9 = n9 * 3\n",
    "n9"
   ]
  },
  {
   "cell_type": "code",
   "execution_count": 95,
   "id": "739e0ce0",
   "metadata": {},
   "outputs": [
    {
     "data": {
      "text/plain": [
       "array([13, 16, 19, 22])"
      ]
     },
     "execution_count": 95,
     "metadata": {},
     "output_type": "execute_result"
    }
   ],
   "source": [
    "n9 = n9 - 2\n",
    "n9"
   ]
  },
  {
   "cell_type": "code",
   "execution_count": 97,
   "id": "ea9d396e",
   "metadata": {},
   "outputs": [
    {
     "data": {
      "text/plain": [
       "array([0.8125, 1.    , 1.1875, 1.375 ])"
      ]
     },
     "execution_count": 97,
     "metadata": {},
     "output_type": "execute_result"
    }
   ],
   "source": [
    "n9 = n9 / 4\n",
    "n9"
   ]
  },
  {
   "cell_type": "code",
   "execution_count": 98,
   "id": "0b5a654e",
   "metadata": {},
   "outputs": [],
   "source": [
    "#9 Numpy Stats\n"
   ]
  },
  {
   "cell_type": "code",
   "execution_count": 99,
   "id": "496d9cd6",
   "metadata": {},
   "outputs": [
    {
     "data": {
      "text/plain": [
       "1.09375"
      ]
     },
     "execution_count": 99,
     "metadata": {},
     "output_type": "execute_result"
    }
   ],
   "source": [
    "np.mean(n9)"
   ]
  },
  {
   "cell_type": "code",
   "execution_count": 101,
   "id": "e0524ec3",
   "metadata": {},
   "outputs": [
    {
     "data": {
      "text/plain": [
       "1.09375"
      ]
     },
     "execution_count": 101,
     "metadata": {},
     "output_type": "execute_result"
    }
   ],
   "source": [
    "np.median(n9)"
   ]
  },
  {
   "cell_type": "code",
   "execution_count": 103,
   "id": "d546de5a",
   "metadata": {},
   "outputs": [
    {
     "data": {
      "text/plain": [
       "0.2096313728906053"
      ]
     },
     "execution_count": 103,
     "metadata": {},
     "output_type": "execute_result"
    }
   ],
   "source": [
    "np.std(n9)"
   ]
  },
  {
   "cell_type": "code",
   "execution_count": 104,
   "id": "02fcdca5",
   "metadata": {},
   "outputs": [
    {
     "data": {
      "text/plain": [
       "0.0439453125"
      ]
     },
     "execution_count": 104,
     "metadata": {},
     "output_type": "execute_result"
    }
   ],
   "source": [
    "np.var(n9)"
   ]
  },
  {
   "cell_type": "code",
   "execution_count": 105,
   "id": "2f39a6cc",
   "metadata": {},
   "outputs": [],
   "source": [
    "# Save and load"
   ]
  },
  {
   "cell_type": "code",
   "execution_count": 112,
   "id": "2d327f33",
   "metadata": {},
   "outputs": [],
   "source": [
    "np.save('numpy',n9)"
   ]
  },
  {
   "cell_type": "code",
   "execution_count": 116,
   "id": "8b8044af",
   "metadata": {},
   "outputs": [],
   "source": [
    "n10=np.load('numpy.npy')"
   ]
  },
  {
   "cell_type": "code",
   "execution_count": 117,
   "id": "ad006898",
   "metadata": {},
   "outputs": [
    {
     "data": {
      "text/plain": [
       "array([0.8125, 1.    , 1.1875, 1.375 ])"
      ]
     },
     "execution_count": 117,
     "metadata": {},
     "output_type": "execute_result"
    }
   ],
   "source": [
    "n10"
   ]
  },
  {
   "cell_type": "code",
   "execution_count": null,
   "id": "15fc0a87",
   "metadata": {},
   "outputs": [],
   "source": []
  }
 ],
 "metadata": {
  "kernelspec": {
   "display_name": "Python 3 (ipykernel)",
   "language": "python",
   "name": "python3"
  },
  "language_info": {
   "codemirror_mode": {
    "name": "ipython",
    "version": 3
   },
   "file_extension": ".py",
   "mimetype": "text/x-python",
   "name": "python",
   "nbconvert_exporter": "python",
   "pygments_lexer": "ipython3",
   "version": "3.9.13"
  }
 },
 "nbformat": 4,
 "nbformat_minor": 5
}
