{
 "cells": [
  {
   "cell_type": "code",
   "execution_count": 1,
   "id": "0c0ac94f",
   "metadata": {},
   "outputs": [
    {
     "name": "stdout",
     "output_type": "stream",
     "text": [
      "Hello\n"
     ]
    }
   ],
   "source": [
    "def hello():\n",
    "    print(\"Hello\")\n",
    "    \n",
    "hello()"
   ]
  },
  {
   "cell_type": "code",
   "execution_count": 2,
   "id": "c25bde59",
   "metadata": {},
   "outputs": [
    {
     "name": "stdout",
     "output_type": "stream",
     "text": [
      "6\n"
     ]
    }
   ],
   "source": [
    "def add(x,y):\n",
    "    print(x+y)\n",
    "\n",
    "    \n",
    "add(2,4)"
   ]
  },
  {
   "cell_type": "code",
   "execution_count": 66,
   "id": "53892c0a",
   "metadata": {},
   "outputs": [
    {
     "name": "stdout",
     "output_type": "stream",
     "text": [
      "odd\n"
     ]
    }
   ],
   "source": [
    "def check(x):\n",
    "    if(x % 2 == 0):\n",
    "        print(\"even\")\n",
    "    else:\n",
    "        print(\"odd\")\n",
    "\n",
    "check(9)"
   ]
  },
  {
   "cell_type": "code",
   "execution_count": 9,
   "id": "0a0acaad",
   "metadata": {},
   "outputs": [
    {
     "data": {
      "text/plain": [
       "4"
      ]
     },
     "execution_count": 9,
     "metadata": {},
     "output_type": "execute_result"
    }
   ],
   "source": [
    "g=lambda x:x*x\n",
    "g(2)"
   ]
  },
  {
   "cell_type": "code",
   "execution_count": null,
   "id": "e698e87b",
   "metadata": {},
   "outputs": [],
   "source": [
    "li = [4,5,7,2,45,62,1,1,4,55]\n",
    "list(filter(lambda x: x>50, li))"
   ]
  },
  {
   "cell_type": "code",
   "execution_count": null,
   "id": "8dfd6044",
   "metadata": {},
   "outputs": [],
   "source": [
    "list(map(lambda x:x*2,li))"
   ]
  },
  {
   "cell_type": "code",
   "execution_count": null,
   "id": "ea51defc",
   "metadata": {},
   "outputs": [],
   "source": [
    "from functools import reduce\n"
   ]
  },
  {
   "cell_type": "code",
   "execution_count": null,
   "id": "e7b09880",
   "metadata": {},
   "outputs": [],
   "source": [
    "reduce(lambda x,y: x+y, li)"
   ]
  },
  {
   "cell_type": "code",
   "execution_count": null,
   "id": "e67b7975",
   "metadata": {},
   "outputs": [],
   "source": []
  },
  {
   "cell_type": "code",
   "execution_count": null,
   "id": "7f078e7c",
   "metadata": {},
   "outputs": [],
   "source": []
  }
 ],
 "metadata": {
  "kernelspec": {
   "display_name": "Python 3 (ipykernel)",
   "language": "python",
   "name": "python3"
  },
  "language_info": {
   "codemirror_mode": {
    "name": "ipython",
    "version": 3
   },
   "file_extension": ".py",
   "mimetype": "text/x-python",
   "name": "python",
   "nbconvert_exporter": "python",
   "pygments_lexer": "ipython3",
   "version": "3.9.13"
  }
 },
 "nbformat": 4,
 "nbformat_minor": 5
}
