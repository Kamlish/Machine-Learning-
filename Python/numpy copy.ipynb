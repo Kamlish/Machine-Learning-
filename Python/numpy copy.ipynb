{
 "cells": [
  {
   "cell_type": "code",
   "execution_count": 21,
   "id": "9bdc2ba7",
   "metadata": {},
   "outputs": [],
   "source": [
    "import numpy as np"
   ]
  },
  {
   "cell_type": "code",
   "execution_count": 22,
   "id": "71eec6dc",
   "metadata": {},
   "outputs": [],
   "source": [
    "n1=np.array([1,2,3,4])"
   ]
  },
  {
   "cell_type": "code",
   "execution_count": 23,
   "id": "98e42656",
   "metadata": {},
   "outputs": [
    {
     "data": {
      "text/plain": [
       "array([1, 2, 3, 4])"
      ]
     },
     "execution_count": 23,
     "metadata": {},
     "output_type": "execute_result"
    }
   ],
   "source": [
    "n1"
   ]
  },
  {
   "cell_type": "code",
   "execution_count": 33,
   "id": "b83ee17d",
   "metadata": {},
   "outputs": [],
   "source": [
    "n2=np.array([[1,2,3,4],[5,6,7,8]])"
   ]
  },
  {
   "cell_type": "code",
   "execution_count": 25,
   "id": "28f1e414",
   "metadata": {},
   "outputs": [
    {
     "data": {
      "text/plain": [
       "array([[1, 2, 3, 4],\n",
       "       [5, 6, 7, 8]])"
      ]
     },
     "execution_count": 25,
     "metadata": {},
     "output_type": "execute_result"
    }
   ],
   "source": [
    "n2"
   ]
  },
  {
   "cell_type": "code",
   "execution_count": 26,
   "id": "614e39be",
   "metadata": {},
   "outputs": [],
   "source": [
    "#1 Init with zero, Ones, x number and random number"
   ]
  },
  {
   "cell_type": "code",
   "execution_count": 27,
   "id": "4f16f80e",
   "metadata": {},
   "outputs": [],
   "source": [
    "n3=np.zeros((5,5))"
   ]
  },
  {
   "cell_type": "code",
   "execution_count": 28,
   "id": "2abb6a2c",
   "metadata": {},
   "outputs": [
    {
     "data": {
      "text/plain": [
       "array([[0., 0., 0., 0., 0.],\n",
       "       [0., 0., 0., 0., 0.],\n",
       "       [0., 0., 0., 0., 0.],\n",
       "       [0., 0., 0., 0., 0.],\n",
       "       [0., 0., 0., 0., 0.]])"
      ]
     },
     "execution_count": 28,
     "metadata": {},
     "output_type": "execute_result"
    }
   ],
   "source": [
    "n3\n"
   ]
  },
  {
   "cell_type": "code",
   "execution_count": 29,
   "id": "ca691dd9",
   "metadata": {},
   "outputs": [],
   "source": [
    "n4=np.ones((5,5))"
   ]
  },
  {
   "cell_type": "code",
   "execution_count": 30,
   "id": "40921ad9",
   "metadata": {},
   "outputs": [
    {
     "data": {
      "text/plain": [
       "array([[1., 1., 1., 1., 1.],\n",
       "       [1., 1., 1., 1., 1.],\n",
       "       [1., 1., 1., 1., 1.],\n",
       "       [1., 1., 1., 1., 1.],\n",
       "       [1., 1., 1., 1., 1.]])"
      ]
     },
     "execution_count": 30,
     "metadata": {},
     "output_type": "execute_result"
    }
   ],
   "source": [
    "n4"
   ]
  },
  {
   "cell_type": "code",
   "execution_count": 31,
   "id": "3229f077",
   "metadata": {},
   "outputs": [],
   "source": [
    "n5=np.full((5,5),10)"
   ]
  },
  {
   "cell_type": "code",
   "execution_count": 32,
   "id": "55f1b0d1",
   "metadata": {},
   "outputs": [
    {
     "data": {
      "text/plain": [
       "array([[10, 10, 10, 10, 10],\n",
       "       [10, 10, 10, 10, 10],\n",
       "       [10, 10, 10, 10, 10],\n",
       "       [10, 10, 10, 10, 10],\n",
       "       [10, 10, 10, 10, 10]])"
      ]
     },
     "execution_count": 32,
     "metadata": {},
     "output_type": "execute_result"
    }
   ],
   "source": [
    "n5"
   ]
  },
  {
   "cell_type": "code",
   "execution_count": 38,
   "id": "1c73153e",
   "metadata": {},
   "outputs": [],
   "source": [
    "n6=np.random.randint(1,100,5)"
   ]
  },
  {
   "cell_type": "code",
   "execution_count": 39,
   "id": "79cf7bdf",
   "metadata": {},
   "outputs": [
    {
     "data": {
      "text/plain": [
       "array([50, 23, 58, 44, 83])"
      ]
     },
     "execution_count": 39,
     "metadata": {},
     "output_type": "execute_result"
    }
   ],
   "source": [
    "n6"
   ]
  },
  {
   "cell_type": "code",
   "execution_count": 40,
   "id": "7e50e404",
   "metadata": {},
   "outputs": [],
   "source": [
    "#2 Checking the shape and change it"
   ]
  },
  {
   "cell_type": "code",
   "execution_count": 48,
   "id": "ffba6508",
   "metadata": {},
   "outputs": [],
   "source": [
    "n7 = np.array([[1,2,3,4],[2,4,5,7]])"
   ]
  },
  {
   "cell_type": "code",
   "execution_count": 53,
   "id": "9c7c325d",
   "metadata": {},
   "outputs": [
    {
     "data": {
      "text/plain": [
       "(2, 4)"
      ]
     },
     "execution_count": 53,
     "metadata": {},
     "output_type": "execute_result"
    }
   ],
   "source": [
    "n7.shape"
   ]
  },
  {
   "cell_type": "code",
   "execution_count": 54,
   "id": "f65810b3",
   "metadata": {},
   "outputs": [],
   "source": [
    "n7.shape=(4,2)"
   ]
  },
  {
   "cell_type": "code",
   "execution_count": 55,
   "id": "4d71adb9",
   "metadata": {},
   "outputs": [
    {
     "data": {
      "text/plain": [
       "array([[1, 2],\n",
       "       [3, 4],\n",
       "       [2, 4],\n",
       "       [5, 7]])"
      ]
     },
     "execution_count": 55,
     "metadata": {},
     "output_type": "execute_result"
    }
   ],
   "source": [
    "n7"
   ]
  },
  {
   "cell_type": "code",
   "execution_count": 56,
   "id": "4d0f883f",
   "metadata": {},
   "outputs": [],
   "source": [
    "#3 Joining numpy Arrays"
   ]
  },
  {
   "cell_type": "code",
   "execution_count": 58,
   "id": "4515da71",
   "metadata": {},
   "outputs": [],
   "source": [
    "n8=np.array([3,4,5,6])\n",
    "n9=np.array([4,3,5,7])"
   ]
  },
  {
   "cell_type": "code",
   "execution_count": 67,
   "id": "b2ef3eb3",
   "metadata": {},
   "outputs": [
    {
     "data": {
      "text/plain": [
       "array([[3, 4, 5, 6],\n",
       "       [4, 3, 5, 7]])"
      ]
     },
     "execution_count": 67,
     "metadata": {},
     "output_type": "execute_result"
    }
   ],
   "source": [
    "# vStack\n",
    "\n",
    "np.stack((n8,n9))"
   ]
  },
  {
   "cell_type": "code",
   "execution_count": 65,
   "id": "a4f000bf",
   "metadata": {},
   "outputs": [
    {
     "data": {
      "text/plain": [
       "array([3, 4, 5, 6, 4, 3, 5, 7])"
      ]
     },
     "execution_count": 65,
     "metadata": {},
     "output_type": "execute_result"
    }
   ],
   "source": [
    "# hStack\n",
    "\n",
    "np.hstack((n8,n9))"
   ]
  },
  {
   "cell_type": "code",
   "execution_count": 68,
   "id": "75654bb8",
   "metadata": {},
   "outputs": [
    {
     "data": {
      "text/plain": [
       "array([[3, 4],\n",
       "       [4, 3],\n",
       "       [5, 5],\n",
       "       [6, 7]])"
      ]
     },
     "execution_count": 68,
     "metadata": {},
     "output_type": "execute_result"
    }
   ],
   "source": [
    "# column-stack\n",
    "\n",
    "np.column_stack((n8,n9))"
   ]
  },
  {
   "cell_type": "code",
   "execution_count": 69,
   "id": "0ce05054",
   "metadata": {},
   "outputs": [],
   "source": [
    "#4 Numpy Intersection and Difference"
   ]
  },
  {
   "cell_type": "code",
   "execution_count": 70,
   "id": "f636ed38",
   "metadata": {},
   "outputs": [
    {
     "data": {
      "text/plain": [
       "array([3, 4, 5])"
      ]
     },
     "execution_count": 70,
     "metadata": {},
     "output_type": "execute_result"
    }
   ],
   "source": [
    "#Intersection\n",
    "np.intersect1d(n8,n9)"
   ]
  },
  {
   "cell_type": "code",
   "execution_count": 72,
   "id": "45128143",
   "metadata": {},
   "outputs": [
    {
     "data": {
      "text/plain": [
       "array([6])"
      ]
     },
     "execution_count": 72,
     "metadata": {},
     "output_type": "execute_result"
    }
   ],
   "source": [
    "#Diff n1\n",
    "np.setdiff1d(n8,n9)"
   ]
  },
  {
   "cell_type": "code",
   "execution_count": 75,
   "id": "21670c74",
   "metadata": {},
   "outputs": [
    {
     "data": {
      "text/plain": [
       "array([7])"
      ]
     },
     "execution_count": 75,
     "metadata": {},
     "output_type": "execute_result"
    }
   ],
   "source": [
    "#Diff n2\n",
    "np.setdiff1d(n9,n8)"
   ]
  },
  {
   "cell_type": "code",
   "execution_count": 79,
   "id": "f38cc029",
   "metadata": {},
   "outputs": [],
   "source": [
    "#5 Array sum"
   ]
  },
  {
   "cell_type": "code",
   "execution_count": 78,
   "id": "d4e7bb82",
   "metadata": {},
   "outputs": [
    {
     "data": {
      "text/plain": [
       "36"
      ]
     },
     "execution_count": 78,
     "metadata": {},
     "output_type": "execute_result"
    }
   ],
   "source": [
    "np.sum((n8,n8))"
   ]
  },
  {
   "cell_type": "code",
   "execution_count": 77,
   "id": "12056b25",
   "metadata": {},
   "outputs": [
    {
     "data": {
      "text/plain": [
       "array([ 7,  7, 10, 13])"
      ]
     },
     "execution_count": 77,
     "metadata": {},
     "output_type": "execute_result"
    }
   ],
   "source": [
    "np.sum((n8,n9),axis=0)"
   ]
  },
  {
   "cell_type": "code",
   "execution_count": 80,
   "id": "6593379d",
   "metadata": {},
   "outputs": [
    {
     "data": {
      "text/plain": [
       "array([18, 18])"
      ]
     },
     "execution_count": 80,
     "metadata": {},
     "output_type": "execute_result"
    }
   ],
   "source": [
    "np.sum((n8,n8),axis=1)"
   ]
  },
  {
   "cell_type": "code",
   "execution_count": 81,
   "id": "cca45b29",
   "metadata": {},
   "outputs": [],
   "source": [
    "# 6 Numpy Mathematics Operations"
   ]
  },
  {
   "cell_type": "code",
   "execution_count": 92,
   "id": "7ec1a2ad",
   "metadata": {},
   "outputs": [],
   "source": [
    "n9 = np.array([4,5,6,7])\n",
    "n9 = n9 + 1"
   ]
  },
  {
   "cell_type": "code",
   "execution_count": 93,
   "id": "788bb032",
   "metadata": {},
   "outputs": [
    {
     "data": {
      "text/plain": [
       "array([5, 6, 7, 8])"
      ]
     },
     "execution_count": 93,
     "metadata": {},
     "output_type": "execute_result"
    }
   ],
   "source": [
    "n9\n"
   ]
  },
  {
   "cell_type": "code",
   "execution_count": 94,
   "id": "111f3564",
   "metadata": {},
   "outputs": [
    {
     "data": {
      "text/plain": [
       "array([15, 18, 21, 24])"
      ]
     },
     "execution_count": 94,
     "metadata": {},
     "output_type": "execute_result"
    }
   ],
   "source": [
    "n9 = n9 * 3\n",
    "n9"
   ]
  },
  {
   "cell_type": "code",
   "execution_count": 95,
   "id": "0156a736",
   "metadata": {},
   "outputs": [
    {
     "data": {
      "text/plain": [
       "array([13, 16, 19, 22])"
      ]
     },
     "execution_count": 95,
     "metadata": {},
     "output_type": "execute_result"
    }
   ],
   "source": [
    "n9 = n9 - 2\n",
    "n9"
   ]
  },
  {
   "cell_type": "code",
   "execution_count": 97,
   "id": "d815cbf5",
   "metadata": {},
   "outputs": [
    {
     "data": {
      "text/plain": [
       "array([0.8125, 1.    , 1.1875, 1.375 ])"
      ]
     },
     "execution_count": 97,
     "metadata": {},
     "output_type": "execute_result"
    }
   ],
   "source": [
    "n9 = n9 / 4\n",
    "n9"
   ]
  },
  {
   "cell_type": "code",
   "execution_count": 98,
   "id": "0fa9c9af",
   "metadata": {},
   "outputs": [],
   "source": [
    "#9 Numpy Stats\n"
   ]
  },
  {
   "cell_type": "code",
   "execution_count": 99,
   "id": "d6d341be",
   "metadata": {},
   "outputs": [
    {
     "data": {
      "text/plain": [
       "1.09375"
      ]
     },
     "execution_count": 99,
     "metadata": {},
     "output_type": "execute_result"
    }
   ],
   "source": [
    "np.mean(n9)"
   ]
  },
  {
   "cell_type": "code",
   "execution_count": 101,
   "id": "eb596df4",
   "metadata": {},
   "outputs": [
    {
     "data": {
      "text/plain": [
       "1.09375"
      ]
     },
     "execution_count": 101,
     "metadata": {},
     "output_type": "execute_result"
    }
   ],
   "source": [
    "np.median(n9)"
   ]
  },
  {
   "cell_type": "code",
   "execution_count": 103,
   "id": "e8bc0814",
   "metadata": {},
   "outputs": [
    {
     "data": {
      "text/plain": [
       "0.2096313728906053"
      ]
     },
     "execution_count": 103,
     "metadata": {},
     "output_type": "execute_result"
    }
   ],
   "source": [
    "np.std(n9)"
   ]
  },
  {
   "cell_type": "code",
   "execution_count": 104,
   "id": "7b70c0ed",
   "metadata": {},
   "outputs": [
    {
     "data": {
      "text/plain": [
       "0.0439453125"
      ]
     },
     "execution_count": 104,
     "metadata": {},
     "output_type": "execute_result"
    }
   ],
   "source": [
    "np.var(n9)"
   ]
  },
  {
   "cell_type": "code",
   "execution_count": 105,
   "id": "b735a2e4",
   "metadata": {},
   "outputs": [],
   "source": [
    "# Save and load"
   ]
  },
  {
   "cell_type": "code",
   "execution_count": 112,
   "id": "b6430453",
   "metadata": {},
   "outputs": [],
   "source": [
    "np.save('numpy',n9)"
   ]
  },
  {
   "cell_type": "code",
   "execution_count": 116,
   "id": "5efa18f9",
   "metadata": {},
   "outputs": [],
   "source": [
    "n10=np.load('numpy.npy')"
   ]
  },
  {
   "cell_type": "code",
   "execution_count": 117,
   "id": "0531188e",
   "metadata": {},
   "outputs": [
    {
     "data": {
      "text/plain": [
       "array([0.8125, 1.    , 1.1875, 1.375 ])"
      ]
     },
     "execution_count": 117,
     "metadata": {},
     "output_type": "execute_result"
    }
   ],
   "source": [
    "n10"
   ]
  },
  {
   "cell_type": "code",
   "execution_count": null,
   "id": "1621c741",
   "metadata": {},
   "outputs": [],
   "source": []
  }
 ],
 "metadata": {
  "kernelspec": {
   "display_name": "Python 3 (ipykernel)",
   "language": "python",
   "name": "python3"
  },
  "language_info": {
   "codemirror_mode": {
    "name": "ipython",
    "version": 3
   },
   "file_extension": ".py",
   "mimetype": "text/x-python",
   "name": "python",
   "nbconvert_exporter": "python",
   "pygments_lexer": "ipython3",
   "version": "3.9.13"
  }
 },
 "nbformat": 4,
 "nbformat_minor": 5
}
