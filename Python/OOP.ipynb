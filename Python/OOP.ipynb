{
 "cells": [
  {
   "cell_type": "code",
   "execution_count": 13,
   "id": "80fc409a",
   "metadata": {},
   "outputs": [],
   "source": [
    "class Phone:\n",
    "    def make_call(self):\n",
    "        print(\"Making a call\")\n",
    "    \n",
    "    def play_game(self):\n",
    "        print(\"playing a game\")\n"
   ]
  },
  {
   "cell_type": "code",
   "execution_count": 16,
   "id": "0e42910a",
   "metadata": {},
   "outputs": [],
   "source": [
    "p1=Phone();"
   ]
  },
  {
   "cell_type": "code",
   "execution_count": 17,
   "id": "160ab1c7",
   "metadata": {},
   "outputs": [
    {
     "name": "stdout",
     "output_type": "stream",
     "text": [
      "playing a game\n"
     ]
    }
   ],
   "source": [
    "p1.play_game();"
   ]
  },
  {
   "cell_type": "code",
   "execution_count": 31,
   "id": "bfc0abef",
   "metadata": {},
   "outputs": [],
   "source": [
    "# Setting and Returning attribute value\n",
    "\n",
    "class Phone:\n",
    "    def set_color(self,color):\n",
    "        self.color = color\n",
    "    def set_cost(self,cost):\n",
    "        self.cost = cost\n",
    "    def get_color(self):\n",
    "        return self.color\n",
    "    def get_cost(self):\n",
    "        return self.cost\n",
    "    "
   ]
  },
  {
   "cell_type": "code",
   "execution_count": 22,
   "id": "ee53df49",
   "metadata": {},
   "outputs": [],
   "source": [
    "p1=Phone()"
   ]
  },
  {
   "cell_type": "code",
   "execution_count": 27,
   "id": "d0c23dc9",
   "metadata": {},
   "outputs": [],
   "source": [
    "p1.set_color(\"red\")\n",
    "p1.set_cost(34)"
   ]
  },
  {
   "cell_type": "code",
   "execution_count": 28,
   "id": "22206316",
   "metadata": {},
   "outputs": [
    {
     "data": {
      "text/plain": [
       "'red'"
      ]
     },
     "execution_count": 28,
     "metadata": {},
     "output_type": "execute_result"
    }
   ],
   "source": [
    "p1.get_color()"
   ]
  },
  {
   "cell_type": "code",
   "execution_count": 29,
   "id": "9bb73499",
   "metadata": {},
   "outputs": [
    {
     "data": {
      "text/plain": [
       "34"
      ]
     },
     "execution_count": 29,
     "metadata": {},
     "output_type": "execute_result"
    }
   ],
   "source": [
    "p1.get_cost()"
   ]
  },
  {
   "cell_type": "code",
   "execution_count": 46,
   "id": "7cdc3a98",
   "metadata": {},
   "outputs": [],
   "source": [
    "#Creating a class with constructor \n",
    "\n",
    "class Employee:\n",
    "    def __init__ (self, name, age):\n",
    "        self.name = name\n",
    "        self.age = age\n",
    "    \n",
    "    def emp_details(self):\n",
    "        print(\"Employee name:\", self.name)\n",
    "        print(\"Employee age:\", self.age)"
   ]
  },
  {
   "cell_type": "code",
   "execution_count": 47,
   "id": "38f416ec",
   "metadata": {},
   "outputs": [],
   "source": [
    "e1=Employee(\"Kamlish\", 27)"
   ]
  },
  {
   "cell_type": "code",
   "execution_count": 45,
   "id": "a46b9d0c",
   "metadata": {},
   "outputs": [
    {
     "name": "stdout",
     "output_type": "stream",
     "text": [
      "Employee name: Kamlish\n",
      "Employee age: 27\n"
     ]
    }
   ],
   "source": [
    "e1.emp_details()"
   ]
  },
  {
   "cell_type": "code",
   "execution_count": 40,
   "id": "bb1e832d",
   "metadata": {},
   "outputs": [],
   "source": [
    "#Inheritence \n",
    "\n",
    "class Vehicle:\n",
    "    def __init__(self,category,name,price):\n",
    "        self.category = category\n",
    "        self.name = name\n",
    "        self.price = price\n",
    "    \n",
    "    def show_vehicle_details(self):\n",
    "        print(\"Category of Vehicle:\", self.category)\n",
    "        print(\"Name of Vehicle:\", self.name)\n",
    "        print(\"price of vehicle:\", self.price)\n",
    "        \n"
   ]
  },
  {
   "cell_type": "code",
   "execution_count": 41,
   "id": "1a4b9cc4",
   "metadata": {},
   "outputs": [],
   "source": [
    "class Car(Vehicle):\n",
    "    def __init__(self,category,name,price,tyres,hp):\n",
    "        super().__init__(category,name,price)\n",
    "        self.tyres = tyres\n",
    "        self.hp = hp\n",
    "        \n",
    "    def show_car_details(self):\n",
    "        print(\"This is car\")\n",
    "        print(\"No of tyres:\", self.tyres)\n",
    "        print(\"HP is:\", self.hp)\n",
    "    "
   ]
  },
  {
   "cell_type": "code",
   "execution_count": 42,
   "id": "6d522d59",
   "metadata": {},
   "outputs": [],
   "source": [
    "c1=Car(\"Car\",\"Honda\", 500000,4,1800)"
   ]
  },
  {
   "cell_type": "code",
   "execution_count": 44,
   "id": "839ccafb",
   "metadata": {},
   "outputs": [
    {
     "name": "stdout",
     "output_type": "stream",
     "text": [
      "Category of Vehicle: Car\n",
      "Name of Vehicle: Honda\n",
      "price of vehicle: 500000\n"
     ]
    }
   ],
   "source": [
    "c1.show_vehicle_details()"
   ]
  },
  {
   "cell_type": "code",
   "execution_count": 30,
   "id": "c362679b",
   "metadata": {},
   "outputs": [
    {
     "name": "stdout",
     "output_type": "stream",
     "text": [
      "This is car\n",
      "No of tyres: 4\n",
      "HP is: 1800\n"
     ]
    }
   ],
   "source": [
    "c1.show_car_details()"
   ]
  },
  {
   "cell_type": "code",
   "execution_count": null,
   "id": "d35dd83b",
   "metadata": {},
   "outputs": [],
   "source": []
  }
 ],
 "metadata": {
  "kernelspec": {
   "display_name": "Python 3 (ipykernel)",
   "language": "python",
   "name": "python3"
  },
  "language_info": {
   "codemirror_mode": {
    "name": "ipython",
    "version": 3
   },
   "file_extension": ".py",
   "mimetype": "text/x-python",
   "name": "python",
   "nbconvert_exporter": "python",
   "pygments_lexer": "ipython3",
   "version": "3.9.13"
  }
 },
 "nbformat": 4,
 "nbformat_minor": 5
}
