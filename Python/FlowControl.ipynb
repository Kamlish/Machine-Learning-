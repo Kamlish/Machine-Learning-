{
 "cells": [
  {
   "cell_type": "code",
   "execution_count": 3,
   "id": "a6a84818",
   "metadata": {},
   "outputs": [
    {
     "name": "stdout",
     "output_type": "stream",
     "text": [
      "True\n"
     ]
    }
   ],
   "source": [
    "a = 0\n",
    "b = 3\n",
    "c = -2\n",
    "\n",
    "if (a>c) and (a<b):\n",
    "    print(\"True\")\n",
    "else:\n",
    "    print(\"False\")"
   ]
  },
  {
   "cell_type": "code",
   "execution_count": 4,
   "id": "b1c06703",
   "metadata": {},
   "outputs": [
    {
     "data": {
      "text/plain": [
       "[10, 20, 29]"
      ]
     },
     "execution_count": 4,
     "metadata": {},
     "output_type": "execute_result"
    }
   ],
   "source": [
    "list = [10,20,29]\n",
    "list"
   ]
  },
  {
   "cell_type": "code",
   "execution_count": 9,
   "id": "8ec32f13",
   "metadata": {},
   "outputs": [],
   "source": [
    "if list[1] == 20:\n",
    "    list[1] = list[1]+100"
   ]
  },
  {
   "cell_type": "code",
   "execution_count": 10,
   "id": "d3cdfe87",
   "metadata": {},
   "outputs": [
    {
     "data": {
      "text/plain": [
       "[10, 120, 29]"
      ]
     },
     "execution_count": 10,
     "metadata": {},
     "output_type": "execute_result"
    }
   ],
   "source": [
    "list"
   ]
  },
  {
   "cell_type": "code",
   "execution_count": null,
   "id": "9578f053",
   "metadata": {},
   "outputs": [],
   "source": [
    "#While Loop\n"
   ]
  },
  {
   "cell_type": "code",
   "execution_count": 16,
   "id": "2280045f",
   "metadata": {},
   "outputs": [
    {
     "name": "stdout",
     "output_type": "stream",
     "text": [
      "6  *  1  =  6\n",
      "6  *  2  =  12\n",
      "6  *  3  =  18\n",
      "6  *  4  =  24\n",
      "6  *  5  =  30\n",
      "6  *  6  =  36\n",
      "6  *  7  =  42\n",
      "6  *  8  =  48\n",
      "6  *  9  =  54\n",
      "6  *  10  =  60\n"
     ]
    }
   ],
   "source": [
    "i = 1\n",
    "n = 6\n",
    "while(i<=10):\n",
    "    print(n,\" * \",i,\" = \", i*n)\n",
    "    i+=1;"
   ]
  },
  {
   "cell_type": "code",
   "execution_count": 22,
   "id": "06247fb6",
   "metadata": {},
   "outputs": [],
   "source": [
    "li = [1,2,3,4,5,6]\n",
    "\n",
    "i = 0\n",
    "while i<len(li):\n",
    "    li[i] = li[i]+100\n",
    "    i+=1"
   ]
  },
  {
   "cell_type": "code",
   "execution_count": 23,
   "id": "92de5c29",
   "metadata": {},
   "outputs": [
    {
     "data": {
      "text/plain": [
       "[101, 102, 103, 104, 105, 106]"
      ]
     },
     "execution_count": 23,
     "metadata": {},
     "output_type": "execute_result"
    }
   ],
   "source": [
    "li\n"
   ]
  },
  {
   "cell_type": "code",
   "execution_count": null,
   "id": "14d11a5a",
   "metadata": {},
   "outputs": [],
   "source": []
  },
  {
   "cell_type": "code",
   "execution_count": 27,
   "id": "b7232dab",
   "metadata": {},
   "outputs": [],
   "source": [
    "#For loop\n"
   ]
  },
  {
   "cell_type": "code",
   "execution_count": 29,
   "id": "57ea97ea",
   "metadata": {},
   "outputs": [
    {
     "name": "stdout",
     "output_type": "stream",
     "text": [
      "201\n",
      "102\n",
      "103\n",
      "104\n",
      "105\n",
      "106\n"
     ]
    }
   ],
   "source": [
    "for i in li:\n",
    "    print(i)"
   ]
  },
  {
   "cell_type": "code",
   "execution_count": 30,
   "id": "3bdb637e",
   "metadata": {},
   "outputs": [
    {
     "name": "stdout",
     "output_type": "stream",
     "text": [
      "Kamlish 27\n",
      "Kamlish 26\n",
      "Kamlish 25\n",
      "Neha 27\n",
      "Neha 26\n",
      "Neha 25\n",
      "Zee 27\n",
      "Zee 26\n",
      "Zee 25\n"
     ]
    }
   ],
   "source": [
    "li = ['Kamlish', 'Neha', 'Zee']\n",
    "l2 = [27,26,25]\n",
    "\n",
    "for i in li:\n",
    "    for j in l2:\n",
    "        print(i,j)"
   ]
  },
  {
   "cell_type": "code",
   "execution_count": null,
   "id": "b0f7d72c",
   "metadata": {},
   "outputs": [],
   "source": []
  }
 ],
 "metadata": {
  "kernelspec": {
   "display_name": "Python 3 (ipykernel)",
   "language": "python",
   "name": "python3"
  },
  "language_info": {
   "codemirror_mode": {
    "name": "ipython",
    "version": 3
   },
   "file_extension": ".py",
   "mimetype": "text/x-python",
   "name": "python",
   "nbconvert_exporter": "python",
   "pygments_lexer": "ipython3",
   "version": "3.9.13"
  }
 },
 "nbformat": 4,
 "nbformat_minor": 5
}
