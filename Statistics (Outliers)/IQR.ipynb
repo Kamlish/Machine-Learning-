{
 "cells": [
  {
   "cell_type": "code",
   "execution_count": 1,
   "id": "b93de240",
   "metadata": {},
   "outputs": [],
   "source": [
    "import numpy as np\n",
    "import matplotlib.pyplot as plt\n",
    "%matplotlib inline"
   ]
  },
  {
   "cell_type": "code",
   "execution_count": 2,
   "id": "27ba99e9",
   "metadata": {},
   "outputs": [],
   "source": [
    "#Data set \n",
    "dataset = [1,2,2,2,3,3,4,5,5,5,6,6,6,6,7,8,8,9,27]"
   ]
  },
  {
   "cell_type": "code",
   "execution_count": 5,
   "id": "cab942b7",
   "metadata": {},
   "outputs": [
    {
     "data": {
      "text/plain": [
       "(array([6., 8., 3., 1., 0., 0., 0., 0., 0., 1.]),\n",
       " array([ 1. ,  3.6,  6.2,  8.8, 11.4, 14. , 16.6, 19.2, 21.8, 24.4, 27. ]),\n",
       " <BarContainer object of 10 artists>)"
      ]
     },
     "execution_count": 5,
     "metadata": {},
     "output_type": "execute_result"
    },
    {
     "data": {
      "image/png": "[encoded data removed]",
      "text/plain": [
       "<Figure size 640x480 with 1 Axes>"
      ]
     },
     "metadata": {},
     "output_type": "display_data"
    }
   ],
   "source": [
    "plt.hist(dataset)"
   ]
  },
  {
   "cell_type": "code",
   "execution_count": 12,
   "id": "6ad873b2",
   "metadata": {},
   "outputs": [],
   "source": [
    "# Z-score\n",
    "outliers=[]\n",
    "def detect_outliers(data):\n",
    "    threshold = 3 #3rd standard deviation \n",
    "    mean = np.mean(data)\n",
    "    std = np.std(data)\n",
    "    \n",
    "    for i in data:\n",
    "        z_score = (i-mean)/std\n",
    "        if np.abs(z_score) > threshold:\n",
    "            outliers.append(i)\n",
    "    return outliers"
   ]
  },
  {
   "cell_type": "code",
   "execution_count": 13,
   "id": "aac8cc93",
   "metadata": {},
   "outputs": [
    {
     "data": {
      "text/plain": [
       "[27]"
      ]
     },
     "execution_count": 13,
     "metadata": {},
     "output_type": "execute_result"
    }
   ],
   "source": [
    "detect_outliers(dataset)"
   ]
  },
  {
   "cell_type": "code",
   "execution_count": null,
   "id": "4657dde5",
   "metadata": {},
   "outputs": [],
   "source": [
    "# IQR\n",
    "1. Sort the data\n",
    "2. Calculate Q1(25%) and Q2 (75%)\n",
    "3. IQR (Q3 - Q1)\n",
    "4. Find the Lower Fence => Q1-1.5(IQR)\n",
    "5. Find the Higher Fence => Q3 + 1.5 (IQR)"
   ]
  },
  {
   "cell_type": "code",
   "execution_count": 3,
   "id": "cd9fb839",
   "metadata": {},
   "outputs": [],
   "source": [
    "#Sort\n",
    "dataset=sorted(dataset)"
   ]
  },
  {
   "cell_type": "code",
   "execution_count": 17,
   "id": "dec26aa7",
   "metadata": {},
   "outputs": [
    {
     "data": {
      "text/plain": [
       "[1, 2, 2, 2, 3, 3, 4, 5, 5, 5, 6, 6, 6, 6, 7, 8, 8, 9, 27]"
      ]
     },
     "execution_count": 17,
     "metadata": {},
     "output_type": "execute_result"
    }
   ],
   "source": [
    "dataset"
   ]
  },
  {
   "cell_type": "code",
   "execution_count": 4,
   "id": "17481eb7",
   "metadata": {},
   "outputs": [],
   "source": [
    "q1,q3 = np.percentile(dataset,[25,75])"
   ]
  },
  {
   "cell_type": "code",
   "execution_count": 19,
   "id": "ebc6bcd9",
   "metadata": {},
   "outputs": [
    {
     "name": "stdout",
     "output_type": "stream",
     "text": [
      "3.0 6.5\n"
     ]
    }
   ],
   "source": [
    "print(q1,q3)"
   ]
  },
  {
   "cell_type": "code",
   "execution_count": 5,
   "id": "333ef29b",
   "metadata": {},
   "outputs": [],
   "source": [
    "iqr = q3 - q1 "
   ]
  },
  {
   "cell_type": "code",
   "execution_count": 21,
   "id": "fe9db680",
   "metadata": {},
   "outputs": [
    {
     "name": "stdout",
     "output_type": "stream",
     "text": [
      "3.5\n"
     ]
    }
   ],
   "source": [
    "print(iqr)"
   ]
  },
  {
   "cell_type": "code",
   "execution_count": 6,
   "id": "2c460a33",
   "metadata": {},
   "outputs": [
    {
     "name": "stdout",
     "output_type": "stream",
     "text": [
      "-2.25 11.75\n"
     ]
    }
   ],
   "source": [
    "#Find lower fence and upper fence\n",
    "\n",
    "lower_fence = q1-(1.5*iqr)\n",
    "upper_fence = q3+(1.5*iqr)\n",
    "print(lower_fence,upper_fence)"
   ]
  },
  {
   "cell_type": "code",
   "execution_count": 7,
   "id": "cf0c8ea1",
   "metadata": {},
   "outputs": [],
   "source": [
    "outliers = []\n",
    "def detect_outliers(l,u):\n",
    "    for i in dataset:\n",
    "        if i > u or i < l:\n",
    "            outliers.append(i)\n",
    "    return outliers"
   ]
  },
  {
   "cell_type": "code",
   "execution_count": 9,
   "id": "d5c8c2bc",
   "metadata": {},
   "outputs": [
    {
     "data": {
      "text/plain": [
       "[27]"
      ]
     },
     "execution_count": 9,
     "metadata": {},
     "output_type": "execute_result"
    }
   ],
   "source": [
    "detect_outliers(lower_fence,upper_fence)"
   ]
  },
  {
   "cell_type": "code",
   "execution_count": 12,
   "id": "1fc8cfc9",
   "metadata": {},
   "outputs": [],
   "source": [
    "import seaborn as sns"
   ]
  },
  {
   "cell_type": "code",
   "execution_count": 13,
   "id": "d6bfd9f9",
   "metadata": {},
   "outputs": [
    {
     "name": "stderr",
     "output_type": "stream",
     "text": [
      "/Users/kamlishgoswami/opt/anaconda3/lib/python3.9/site-packages/seaborn/_decorators.py:36: FutureWarning: Pass the following variable as a keyword arg: x. From version 0.12, the only valid positional argument will be `data`, and passing other arguments without an explicit keyword will result in an error or misinterpretation.\n",
      "  warnings.warn(\n"
     ]
    },
    {
     "data": {
      "text/plain": [
       "<AxesSubplot:>"
      ]
     },
     "execution_count": 13,
     "metadata": {},
     "output_type": "execute_result"
    },
    {
     "data": {
      "image/png": "[encoded data removed]",
      "text/plain": [
       "<Figure size 640x480 with 1 Axes>"
      ]
     },
     "metadata": {},
     "output_type": "display_data"
    }
   ],
   "source": [
    "sns.boxplot(dataset)"
   ]
  },
  {
   "cell_type": "code",
   "execution_count": null,
   "id": "1c138ce9",
   "metadata": {},
   "outputs": [],
   "source": []
  }
 ],
 "metadata": {
  "kernelspec": {
   "display_name": "Python 3 (ipykernel)",
   "language": "python",
   "name": "python3"
  },
  "language_info": {
   "codemirror_mode": {
    "name": "ipython",
    "version": 3
   },
   "file_extension": ".py",
   "mimetype": "text/x-python",
   "name": "python",
   "nbconvert_exporter": "python",
   "pygments_lexer": "ipython3",
   "version": "3.9.13"
  }
 },
 "nbformat": 4,
 "nbformat_minor": 5
}
