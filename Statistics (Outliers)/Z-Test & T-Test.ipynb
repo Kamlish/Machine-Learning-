{
 "cells": [
  {
   "cell_type": "code",
   "execution_count": null,
   "id": "e66aeff6",
   "metadata": {},
   "outputs": [],
   "source": [
    "# z-test"
   ]
  },
  {
   "cell_type": "code",
   "execution_count": 1,
   "id": "6f506da0",
   "metadata": {},
   "outputs": [],
   "source": [
    "from statsmodels.stats.weightstats import ztest as ztest"
   ]
  },
  {
   "cell_type": "code",
   "execution_count": 4,
   "id": "2a41c8ad",
   "metadata": {},
   "outputs": [
    {
     "data": {
      "text/plain": [
       "(1.5976240527147705, 0.1101266701438426)"
      ]
     },
     "execution_count": 4,
     "metadata": {},
     "output_type": "execute_result"
    }
   ],
   "source": [
    "# IQ level of 20 patients\n",
    "\n",
    "data = [88,92,94,94,96,97,97,97,99,99,\n",
    "       105,109,109,109,110,112,112,113,114,115]\n",
    "\n",
    "ztest(data,value=100)"
   ]
  },
  {
   "cell_type": "code",
   "execution_count": null,
   "id": "f86a1d44",
   "metadata": {},
   "outputs": [],
   "source": [
    "# 0.1101266701438426 is p-value\n",
    "# 1.5976240527147705 is z-test statistic\n",
    "# p < significance value means Accept H0\n"
   ]
  },
  {
   "cell_type": "code",
   "execution_count": null,
   "id": "42190977",
   "metadata": {},
   "outputs": [],
   "source": [
    "# T-Test"
   ]
  },
  {
   "cell_type": "code",
   "execution_count": 5,
   "id": "a30047eb",
   "metadata": {},
   "outputs": [],
   "source": [
    "ages = [88,92,94,94,96,97,97,97,99,99,\n",
    "       15,29,19,26,30,52,12,83,14,25]"
   ]
  },
  {
   "cell_type": "code",
   "execution_count": 7,
   "id": "b1cd6c9a",
   "metadata": {},
   "outputs": [
    {
     "data": {
      "text/plain": [
       "62.9"
      ]
     },
     "execution_count": 7,
     "metadata": {},
     "output_type": "execute_result"
    }
   ],
   "source": [
    "import numpy as np\n",
    "ages_mean = np.mean(ages)\n",
    "ages_mean"
   ]
  },
  {
   "cell_type": "code",
   "execution_count": 15,
   "id": "8e431f8d",
   "metadata": {},
   "outputs": [
    {
     "data": {
      "text/plain": [
       "72.0"
      ]
     },
     "execution_count": 15,
     "metadata": {},
     "output_type": "execute_result"
    }
   ],
   "source": [
    "sample_size = 10\n",
    "age_sample = np.random.choice(ages,sample_size)\n",
    "age_sample\n",
    "np.mean(age_sample)"
   ]
  },
  {
   "cell_type": "code",
   "execution_count": 13,
   "id": "f299cd3e",
   "metadata": {},
   "outputs": [],
   "source": [
    "from scipy.stats import ttest_1samp as ttest"
   ]
  },
  {
   "cell_type": "code",
   "execution_count": 14,
   "id": "b093081a",
   "metadata": {},
   "outputs": [
    {
     "data": {
      "text/plain": [
       "Ttest_1sampResult(statistic=-0.5225868452027618, pvalue=0.6138807252775335)"
      ]
     },
     "execution_count": 14,
     "metadata": {},
     "output_type": "execute_result"
    }
   ],
   "source": [
    "ttest(age_sample, 62.9)"
   ]
  },
  {
   "cell_type": "code",
   "execution_count": null,
   "id": "8e237f8f",
   "metadata": {},
   "outputs": [],
   "source": []
  }
 ],
 "metadata": {
  "kernelspec": {
   "display_name": "Python 3 (ipykernel)",
   "language": "python",
   "name": "python3"
  },
  "language_info": {
   "codemirror_mode": {
    "name": "ipython",
    "version": 3
   },
   "file_extension": ".py",
   "mimetype": "text/x-python",
   "name": "python",
   "nbconvert_exporter": "python",
   "pygments_lexer": "ipython3",
   "version": "3.9.13"
  }
 },
 "nbformat": 4,
 "nbformat_minor": 5
}
